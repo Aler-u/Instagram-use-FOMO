{
 "cells": [
  {
   "cell_type": "code",
   "execution_count": 34,
   "id": "d02d9188",
   "metadata": {},
   "outputs": [],
   "source": [
    "import pandas as pd\n",
    "import numpy as np\n",
    "import time"
   ]
  },
  {
   "cell_type": "code",
   "execution_count": 1,
   "id": "070ea56f",
   "metadata": {},
   "outputs": [],
   "source": [
    "from instagrapi import Client"
   ]
  },
  {
   "cell_type": "code",
   "execution_count": 2,
   "id": "8271df23",
   "metadata": {},
   "outputs": [],
   "source": [
    "cl = Client()"
   ]
  },
  {
   "cell_type": "code",
   "execution_count": null,
   "id": "63593781",
   "metadata": {},
   "outputs": [],
   "source": [
    "relevant_keys = ['pk','username','is_private','media_count','follower_count','following_count']"
   ]
  },
  {
   "cell_type": "code",
   "execution_count": null,
   "id": "15dc5f63",
   "metadata": {},
   "outputs": [],
   "source": [
    "for u in users:\n",
    "    complete_user_info = cl.user_info_by_username(u).dict()\n",
    "    relevant_user_info = { your_key: complete_user_info[your_key] for your_key in relevant_keys }"
   ]
  },
  {
   "cell_type": "code",
   "execution_count": 36,
   "id": "fbbeff74",
   "metadata": {},
   "outputs": [],
   "source": [
    "test = cl.user_info_by_username('aleusj').dict()"
   ]
  }
 ],
 "metadata": {
  "kernelspec": {
   "display_name": "Python 3",
   "language": "python",
   "name": "python3"
  },
  "language_info": {
   "codemirror_mode": {
    "name": "ipython",
    "version": 3
   },
   "file_extension": ".py",
   "mimetype": "text/x-python",
   "name": "python",
   "nbconvert_exporter": "python",
   "pygments_lexer": "ipython3",
   "version": "3.8.8"
  }
 },
 "nbformat": 4,
 "nbformat_minor": 5
}
